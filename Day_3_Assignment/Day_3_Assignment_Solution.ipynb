{
 "cells": [
  {
   "cell_type": "code",
   "execution_count": 1,
   "metadata": {},
   "outputs": [],
   "source": [
    "import numpy as np"
   ]
  },
  {
   "cell_type": "markdown",
   "metadata": {},
   "source": [
    "# Questions 1:\n",
    "\n",
    "## Create a numpy array starting from 2 till 50 with a stepsize of 3."
   ]
  },
  {
   "cell_type": "code",
   "execution_count": 2,
   "metadata": {},
   "outputs": [
    {
     "name": "stdout",
     "output_type": "stream",
     "text": [
      "[ 2  5  8 11 14 17 20 23 26 29 32 35 38 41 44 47]\n"
     ]
    }
   ],
   "source": [
    "np_arr = np.arange(2, 50, 3)\n",
    "\n",
    "print(np_arr)"
   ]
  },
  {
   "cell_type": "markdown",
   "metadata": {},
   "source": [
    "---"
   ]
  },
  {
   "cell_type": "markdown",
   "metadata": {},
   "source": [
    "# Questions 2:\n",
    "## Accept two lists of 5 elements each from the user.\n",
    "## Convert them to numpy arrays. Concatenate these arrays and print it. Also sort these arrays and print it."
   ]
  },
  {
   "cell_type": "code",
   "execution_count": 5,
   "metadata": {},
   "outputs": [
    {
     "name": "stdout",
     "output_type": "stream",
     "text": [
      "56\n",
      "70\n",
      "30\n",
      "98\n",
      "81\n",
      "3\n",
      "12\n",
      "20\n",
      "45\n",
      "1\n",
      "[ 1  3 12 20 30 45 56 70 81 98]\n"
     ]
    }
   ],
   "source": [
    "arr_1 = np.array([int(input()) for i in range(5)])\n",
    "arr_2 = np.array([int(input()) for i in range(5)])\n",
    "\n",
    "print(np.sort(np.concatenate((arr_1, arr_2))))"
   ]
  },
  {
   "cell_type": "markdown",
   "metadata": {},
   "source": [
    "---"
   ]
  },
  {
   "cell_type": "markdown",
   "metadata": {},
   "source": [
    "# Questions 3:\n",
    "\n",
    "## Write a code snippet to find the dimensions of a ndarray and its size.\n"
   ]
  },
  {
   "cell_type": "code",
   "execution_count": 7,
   "metadata": {},
   "outputs": [
    {
     "name": "stdout",
     "output_type": "stream",
     "text": [
      "1\n",
      "9\n"
     ]
    }
   ],
   "source": [
    "arr = np.arange(1, 10, 1)\n",
    "\n",
    "print(arr.ndim)\n",
    "print(arr.size)"
   ]
  },
  {
   "cell_type": "markdown",
   "metadata": {},
   "source": [
    "---"
   ]
  },
  {
   "cell_type": "markdown",
   "metadata": {},
   "source": [
    "# Questions 4:\n",
    "## How to convert a 1D array into a 2D array? Demonstrate with the help of a code snippet\n",
    "Hint: np.newaxis, np.expand_dims"
   ]
  },
  {
   "cell_type": "code",
   "execution_count": 10,
   "metadata": {},
   "outputs": [],
   "source": [
    "arr = np.arange(1, 10)"
   ]
  },
  {
   "cell_type": "markdown",
   "metadata": {},
   "source": [
    "### Using np.newaxis for converting 1D array to 2D array"
   ]
  },
  {
   "cell_type": "code",
   "execution_count": 11,
   "metadata": {},
   "outputs": [
    {
     "name": "stdout",
     "output_type": "stream",
     "text": [
      "[[1 2 3 4 5 6 7 8 9]]\n"
     ]
    }
   ],
   "source": [
    "# Converting 1D array to a 2D Row Vector\n",
    "arr_row = arr[np.newaxis, :]\n",
    "print(arr_row)"
   ]
  },
  {
   "cell_type": "code",
   "execution_count": 12,
   "metadata": {},
   "outputs": [
    {
     "name": "stdout",
     "output_type": "stream",
     "text": [
      "[[1]\n",
      " [2]\n",
      " [3]\n",
      " [4]\n",
      " [5]\n",
      " [6]\n",
      " [7]\n",
      " [8]\n",
      " [9]]\n"
     ]
    }
   ],
   "source": [
    "# Converting 1D array to a 2D Column Vector\n",
    "arr_col = arr[:, np.newaxis]\n",
    "print(arr_col)"
   ]
  },
  {
   "cell_type": "markdown",
   "metadata": {},
   "source": [
    "### Using np.expand_dims for converting 1D array to 2D array"
   ]
  },
  {
   "cell_type": "code",
   "execution_count": 13,
   "metadata": {},
   "outputs": [
    {
     "name": "stdout",
     "output_type": "stream",
     "text": [
      "[[1 2 3 4 5 6 7 8 9]]\n"
     ]
    }
   ],
   "source": [
    "# Converting 1D array to a 2D Row Vector\n",
    "arr_row_expand = np.expand_dims(arr, axis = 0)\n",
    "print(arr_row_expand)"
   ]
  },
  {
   "cell_type": "code",
   "execution_count": 14,
   "metadata": {},
   "outputs": [
    {
     "name": "stdout",
     "output_type": "stream",
     "text": [
      "[[1]\n",
      " [2]\n",
      " [3]\n",
      " [4]\n",
      " [5]\n",
      " [6]\n",
      " [7]\n",
      " [8]\n",
      " [9]]\n"
     ]
    }
   ],
   "source": [
    "# Converting 1D array to a 2D Column Vector\n",
    "arr_col_expand = np.expand_dims(arr, axis = 1)\n",
    "print(arr_col_expand)"
   ]
  },
  {
   "cell_type": "markdown",
   "metadata": {},
   "source": [
    "---"
   ]
  },
  {
   "cell_type": "markdown",
   "metadata": {},
   "source": [
    "# Questions 5:\n",
    "## Consider two square numpy arrays. Stack them vertically and horizontally.\n",
    "Hint: Use vstack(), hstack()"
   ]
  },
  {
   "cell_type": "code",
   "execution_count": 17,
   "metadata": {},
   "outputs": [
    {
     "name": "stdout",
     "output_type": "stream",
     "text": [
      "[[0.48223428 0.1250958  0.92487064]\n",
      " [0.4372092  0.19064054 0.49006218]\n",
      " [0.87165567 0.37661188 0.10026891]]\n",
      "[[0.31142011 0.71953375 0.44824936]\n",
      " [0.95086911 0.85320812 0.03807432]\n",
      " [0.54119387 0.98399327 0.27889585]]\n"
     ]
    }
   ],
   "source": [
    "sq_1 = np.random.random((3, 3))\n",
    "sq_2 = np.random.random((3, 3))\n",
    "\n",
    "print(sq_1)\n",
    "print(sq_2)"
   ]
  },
  {
   "cell_type": "markdown",
   "metadata": {},
   "source": [
    "### Stacking arrays in sequence vertically (row wise) using np.vstack()"
   ]
  },
  {
   "cell_type": "code",
   "execution_count": 19,
   "metadata": {},
   "outputs": [
    {
     "name": "stdout",
     "output_type": "stream",
     "text": [
      "[[0.48223428 0.1250958  0.92487064]\n",
      " [0.4372092  0.19064054 0.49006218]\n",
      " [0.87165567 0.37661188 0.10026891]\n",
      " [0.31142011 0.71953375 0.44824936]\n",
      " [0.95086911 0.85320812 0.03807432]\n",
      " [0.54119387 0.98399327 0.27889585]]\n"
     ]
    }
   ],
   "source": [
    "print(np.vstack((sq_1, sq_2)))"
   ]
  },
  {
   "cell_type": "markdown",
   "metadata": {},
   "source": [
    "### Stacking arrays in sequence horizontially (column wise) using np.hstack()"
   ]
  },
  {
   "cell_type": "code",
   "execution_count": 20,
   "metadata": {},
   "outputs": [
    {
     "name": "stdout",
     "output_type": "stream",
     "text": [
      "[[0.48223428 0.1250958  0.92487064 0.31142011 0.71953375 0.44824936]\n",
      " [0.4372092  0.19064054 0.49006218 0.95086911 0.85320812 0.03807432]\n",
      " [0.87165567 0.37661188 0.10026891 0.54119387 0.98399327 0.27889585]]\n"
     ]
    }
   ],
   "source": [
    "print(np.hstack((sq_1, sq_2)))"
   ]
  },
  {
   "cell_type": "markdown",
   "metadata": {},
   "source": [
    "---"
   ]
  },
  {
   "cell_type": "markdown",
   "metadata": {},
   "source": [
    "# Questions 6:\n",
    "## How to get unique items and counts of unique items?\n",
    "\n",
    "np.unique() is used to find unique elements in an numpy array. Returns the elements in the sorted form.\n",
    "\n",
    "#### Syntax : np.unique(nparray, return_counts = True)\n",
    "return_counts : Optional argument. Returns the number of times an item appears in an array"
   ]
  },
  {
   "cell_type": "code",
   "execution_count": 21,
   "metadata": {},
   "outputs": [
    {
     "name": "stdout",
     "output_type": "stream",
     "text": [
      "[ 1  3  5  7  9 11 13 15 17 19]\n",
      "[ 1  3  5  7  9 11 13 15 17 19]\n",
      "[1 1 1 1 1 1 1 1 1 1]\n"
     ]
    }
   ],
   "source": [
    "arr = np.arange(1, 20, 2)\n",
    "print(arr)\n",
    "\n",
    "u, count = np.unique(arr, return_counts = True)\n",
    "print(u)\n",
    "print(count)"
   ]
  },
  {
   "cell_type": "code",
   "execution_count": null,
   "metadata": {},
   "outputs": [],
   "source": []
  }
 ],
 "metadata": {
  "kernelspec": {
   "display_name": "Python 3",
   "language": "python",
   "name": "python3"
  },
  "language_info": {
   "codemirror_mode": {
    "name": "ipython",
    "version": 3
   },
   "file_extension": ".py",
   "mimetype": "text/x-python",
   "name": "python",
   "nbconvert_exporter": "python",
   "pygments_lexer": "ipython3",
   "version": "3.7.6"
  }
 },
 "nbformat": 4,
 "nbformat_minor": 4
}
