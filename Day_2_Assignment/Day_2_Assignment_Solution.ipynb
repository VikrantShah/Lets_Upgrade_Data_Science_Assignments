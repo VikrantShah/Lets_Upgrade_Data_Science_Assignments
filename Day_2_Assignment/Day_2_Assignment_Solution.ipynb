{
 "cells": [
  {
   "cell_type": "markdown",
   "metadata": {},
   "source": [
    "# Questions 1:\n",
    "\n",
    "## Create an empty list. Accept 10 numbers from the user and append to it the list if it is an even number."
   ]
  },
  {
   "cell_type": "code",
   "execution_count": 1,
   "metadata": {},
   "outputs": [
    {
     "name": "stdout",
     "output_type": "stream",
     "text": [
      "50\n",
      "25\n",
      "32\n",
      "3\n",
      "9\n",
      "70\n",
      "30\n",
      "10\n",
      "56\n",
      "37\n",
      "[50, 32, 70, 30, 10, 56]\n"
     ]
    }
   ],
   "source": [
    "even_lst = []\n",
    "\n",
    "for i in range(10) :\n",
    "    x = int(input())\n",
    "    \n",
    "    if (x % 2) == 0 :\n",
    "        even_lst.append(x)\n",
    "        \n",
    "print(even_lst)"
   ]
  },
  {
   "cell_type": "markdown",
   "metadata": {},
   "source": [
    "---"
   ]
  },
  {
   "cell_type": "markdown",
   "metadata": {},
   "source": [
    "# Questions 2:\n",
    "\n",
    "## Create a notebook on LIST COMPREHENSION. This exercise is to put you in a Self learning mode\n",
    "\n",
    "- Elegent way to create lists based on existing lists\n",
    "- Faster way for creating lists, rather than using functions and loops\n",
    "- Every List comprehension can be written in the form of for loop, but every for loop can't be written in the list comprehension\n",
    "\n",
    "### Syntax : new_list = [expression for item in list]\n",
    "\n",
    "The above program can be written using list comprehension as follows"
   ]
  },
  {
   "cell_type": "code",
   "execution_count": 2,
   "metadata": {},
   "outputs": [
    {
     "name": "stdout",
     "output_type": "stream",
     "text": [
      "56\n",
      "37\n",
      "70\n",
      "30\n",
      "7\n",
      "3\n",
      "9\n",
      "12\n",
      "2000\n",
      "54\n",
      "[56, 70, 30, 12, 2000, 54]\n"
     ]
    }
   ],
   "source": [
    "lst = [int(input()) for i in range(10)]\n",
    "\n",
    "even_lst = [i for i in lst if (i % 2) == 0]\n",
    "print(even_lst)"
   ]
  },
  {
   "cell_type": "markdown",
   "metadata": {},
   "source": [
    "#### Some more examples are as follows"
   ]
  },
  {
   "cell_type": "code",
   "execution_count": 3,
   "metadata": {},
   "outputs": [
    {
     "name": "stdout",
     "output_type": "stream",
     "text": [
      "['L', 'E', 'T', 'S', ' ', 'U', 'P', 'G', 'R', 'A', 'D', 'E', ' ', 'D', 'A', 'T', 'A', ' ', 'S', 'C', 'I', 'E', 'N', 'C', 'E', ' ', 'E', 'S', 'S', 'E', 'N', 'T', 'I', 'A', 'L', 'S', ' ', 'P', 'R', 'O', 'G', 'R', 'A', 'M']\n"
     ]
    }
   ],
   "source": [
    "str = \"Lets Upgrade Data Science Essentials Program\"\n",
    "\n",
    "lst = [i.upper() for i in str]\n",
    "print(lst)"
   ]
  },
  {
   "cell_type": "markdown",
   "metadata": {},
   "source": [
    "---"
   ]
  },
  {
   "cell_type": "markdown",
   "metadata": {},
   "source": [
    "# Questions 3:\n",
    "\n",
    "## You have seen in the videos how powerful dictionary data structure is.\n",
    "## In this assignment, given a number n, you have to write a program that generates a dictionary d which contains (i, i*i), where i is from 1 to n (both included). Then you have to just print this dictionary d.\n",
    "\n",
    "### Example:\n",
    "Input: 4\n",
    "\n",
    "will give output as\n",
    "\n",
    "{1: 1, 2: 4, 3: 9, 4: 16}\n",
    "\n",
    "#### Input Format:\n",
    "Take the number n in a single line.\n",
    "#### Output Format:\n",
    "Print the dictionary d in a single line.\n",
    "\n",
    "### Example:\n",
    "Input:\n",
    "\n",
    "8\n",
    "\n",
    "Output:\n",
    "\n",
    "{1: 1, 2: 4, 3: 9, 4: 16, 5: 25, 6: 36, 7: 49, 8: 64}"
   ]
  },
  {
   "cell_type": "code",
   "execution_count": 5,
   "metadata": {},
   "outputs": [
    {
     "name": "stdout",
     "output_type": "stream",
     "text": [
      "10\n",
      "{1: 1, 2: 4, 3: 9, 4: 16, 5: 25, 6: 36, 7: 49, 8: 64, 9: 81, 10: 100}\n"
     ]
    }
   ],
   "source": [
    "num = int(input())\n",
    "\n",
    "d = dict()\n",
    "for i in range(1, num+1) :\n",
    "    d[i] = i * i\n",
    "    \n",
    "print(d)"
   ]
  },
  {
   "cell_type": "markdown",
   "metadata": {},
   "source": [
    "----"
   ]
  },
  {
   "cell_type": "markdown",
   "metadata": {},
   "source": [
    "# Questions 4:\n",
    "\n",
    "## There is a robot which wants to go the charging point to charge itself.\n",
    "## The robot moves in a 2-D plane from the original point (0,0). The robot can move toward UP, DOWN, LEFT and RIGHT with given steps.\n",
    "\n",
    "The trace of robot movement is shown as the following:\n",
    "\n",
    "UP 5\n",
    "\n",
    "DOWN 3\n",
    "\n",
    "LEFT 3\n",
    "\n",
    "RIGHT 2\n",
    "\n",
    "Then, the output of the program should be:\n",
    "\n",
    "2\n",
    "\n",
    "The numbers after the direction are steps.\n",
    "\n",
    "## Write a program to compute the distance between the current position after a sequence of movement and original point. If the distance is a float, then just print the nearest integer (use round() function for that and then convert it into an integer).\n",
    "\n",
    "### Input Format:\n",
    "The first line of the input contains a number n which implies the number of directions to be given.\n",
    "\n",
    "The next n lines contain the direction and the step separated by a space.\n",
    "\n",
    "### Output Format:\n",
    "Print the distance from the original position to the current position.\n",
    "\n",
    "### Example:\n",
    "Input:\n",
    "\n",
    "4\n",
    "\n",
    "UP 5\n",
    "\n",
    "DOWN 3\n",
    "\n",
    "LEFT 3\n",
    "\n",
    "RIGHT 2\n",
    "\n",
    "Output:\n",
    "\n",
    "2"
   ]
  },
  {
   "cell_type": "code",
   "execution_count": 8,
   "metadata": {},
   "outputs": [
    {
     "name": "stdout",
     "output_type": "stream",
     "text": [
      "4\n",
      "UP 5\n",
      "DOWN 3\n",
      "LEFT 3\n",
      "RIGHT 2\n",
      "2\n"
     ]
    }
   ],
   "source": [
    "(x, y) = (0, 0)\n",
    "\n",
    "total_moves = int(input())\n",
    "\n",
    "for i in range(total_moves) :\n",
    "    move, steps = input().split()\n",
    "    \n",
    "    if move.upper() == \"UP\" :\n",
    "        y -= int(steps)\n",
    "    elif move.upper() == \"DOWN\" :\n",
    "        y += int(steps)\n",
    "    elif move.upper() == \"LEFT\" :\n",
    "        x -= int(steps)\n",
    "    elif move.upper() == \"RIGHT\" :\n",
    "        x += int(steps)\n",
    "    else :\n",
    "        print(\"INVALID MOVE\")\n",
    "        break\n",
    "\n",
    "print(round((x**2 + y**2)**0.5))"
   ]
  },
  {
   "cell_type": "code",
   "execution_count": null,
   "metadata": {},
   "outputs": [],
   "source": []
  }
 ],
 "metadata": {
  "kernelspec": {
   "display_name": "Python 3",
   "language": "python",
   "name": "python3"
  },
  "language_info": {
   "codemirror_mode": {
    "name": "ipython",
    "version": 3
   },
   "file_extension": ".py",
   "mimetype": "text/x-python",
   "name": "python",
   "nbconvert_exporter": "python",
   "pygments_lexer": "ipython3",
   "version": "3.7.6"
  }
 },
 "nbformat": 4,
 "nbformat_minor": 4
}
